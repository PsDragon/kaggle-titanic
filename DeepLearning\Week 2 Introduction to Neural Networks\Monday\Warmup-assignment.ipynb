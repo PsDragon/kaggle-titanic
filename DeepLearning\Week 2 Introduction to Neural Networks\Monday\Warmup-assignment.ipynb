{
  "nbformat": 4,
  "nbformat_minor": 0,
  "metadata": {
    "colab": {
      "name": "Warmup-assignment.ipynb",
      "provenance": [],
      "collapsed_sections": [],
      "authorship_tag": "ABX9TyO20fcaA2KVjt/oyfymyLKV",
      "include_colab_link": true
    },
    "kernelspec": {
      "name": "python3",
      "display_name": "Python 3"
    },
    "language_info": {
      "name": "python"
    }
  },
  "cells": [
    {
      "cell_type": "markdown",
      "metadata": {
        "id": "view-in-github",
        "colab_type": "text"
      },
      "source": [
        "<a href=\"https://colab.research.google.com/github/PsDragon/kaggle-titanic/blob/master/DeepLearning%5CWeek%202%20Introduction%20to%20Neural%20Networks%5CMonday%5CWarmup-assignment.ipynb\" target=\"_parent\"><img src=\"https://colab.research.google.com/assets/colab-badge.svg\" alt=\"Open In Colab\"/></a>"
      ]
    },
    {
      "cell_type": "code",
      "execution_count": 7,
      "metadata": {
        "id": "D-dX1g4dHnNX"
      },
      "outputs": [],
      "source": [
        "# Import libraries\n",
        "import numpy as np\n",
        "import time\n",
        "import random"
      ]
    },
    {
      "cell_type": "code",
      "source": [
        "# Create 2 arrays, each with shape = 1 million, and populate them with random values between 0 and 1. \n",
        "x = np.random.rand(1000000)\n",
        "y = np.random.rand(1000000)"
      ],
      "metadata": {
        "id": "9qlyjFqgHrkG"
      },
      "execution_count": 8,
      "outputs": []
    },
    {
      "cell_type": "code",
      "source": [
        "# Start timing\n",
        "start = time.time()\n",
        "# Define z\n",
        "z=0\n",
        "z= x.dot(y) \n",
        "# Stop timing\n",
        "stop = time.time()\n",
        "# Find out the difference between the times\n",
        "t1 = stop - start\n",
        "print(z)\n",
        "print(\"Time Elapsed: \", t1)"
      ],
      "metadata": {
        "colab": {
          "base_uri": "https://localhost:8080/"
        },
        "id": "h4HvMeNDHrnU",
        "outputId": "9da50f8a-5495-4cd9-9596-42aa3626021e"
      },
      "execution_count": 9,
      "outputs": [
        {
          "output_type": "stream",
          "name": "stdout",
          "text": [
            "250187.6454871252\n",
            "Time Elapsed:  0.00803065299987793\n"
          ]
        }
      ]
    },
    {
      "cell_type": "code",
      "source": [
        "# Start timing\n",
        "start = time.time()\n",
        "# Define z\n",
        "z=0\n",
        "for i in range(1000000):\n",
        "    z += x[i]* y[i]\n",
        "# Stop timing\n",
        "stop = time.time()\n",
        "# Find out the difference between the times\n",
        "t2 = stop - start\n",
        "print(z)\n",
        "print(\"Time Elapsed: \", t2)"
      ],
      "metadata": {
        "colab": {
          "base_uri": "https://localhost:8080/"
        },
        "id": "-TVcEHceHrp1",
        "outputId": "6d15cf91-01ab-42a3-8290-96b8336d774d"
      },
      "execution_count": 10,
      "outputs": [
        {
          "output_type": "stream",
          "name": "stdout",
          "text": [
            "250187.6454871366\n",
            "Time Elapsed:  0.42351603507995605\n"
          ]
        }
      ]
    },
    {
      "cell_type": "code",
      "source": [
        "# What is the speedup\n",
        "Speedup = t2/t1\n",
        "Speedup"
      ],
      "metadata": {
        "colab": {
          "base_uri": "https://localhost:8080/"
        },
        "id": "SEvTTqPjHrsf",
        "outputId": "38872c0c-e950-43eb-c951-b8bfa5245eea"
      },
      "execution_count": 11,
      "outputs": [
        {
          "output_type": "execute_result",
          "data": {
            "text/plain": [
              "52.737434314045665"
            ]
          },
          "metadata": {},
          "execution_count": 11
        }
      ]
    }
  ]
}